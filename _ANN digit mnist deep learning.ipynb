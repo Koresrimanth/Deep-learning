{
 "cells": [
  {
   "cell_type": "code",
   "execution_count": 1,
   "id": "6647f97c",
   "metadata": {},
   "outputs": [],
   "source": [
    "import tensorflow as tf\n",
    "from tensorflow import keras\n",
    "import matplotlib.pyplot as plt\n",
    "%matplotlib inline"
   ]
  },
  {
   "cell_type": "code",
   "execution_count": 2,
   "id": "257c95cf",
   "metadata": {},
   "outputs": [],
   "source": [
    "digit_mnist = keras.datasets.mnist"
   ]
  },
  {
   "cell_type": "code",
   "execution_count": 4,
   "id": "4610493f",
   "metadata": {},
   "outputs": [],
   "source": [
    "(x_train,y_train),(x_test,y_test)=digit_mnist.load_data()"
   ]
  },
  {
   "cell_type": "code",
   "execution_count": 5,
   "id": "25e03fe3",
   "metadata": {},
   "outputs": [
    {
     "data": {
      "text/plain": [
       "((60000, 28, 28), (60000,), (10000, 28, 28), (10000,))"
      ]
     },
     "execution_count": 5,
     "metadata": {},
     "output_type": "execute_result"
    }
   ],
   "source": [
    "x_train.shape,y_train.shape,x_test.shape,y_test.shape"
   ]
  },
  {
   "cell_type": "code",
   "execution_count": 8,
   "id": "c081d5dc",
   "metadata": {},
   "outputs": [
    {
     "data": {
      "text/plain": [
       "<matplotlib.image.AxesImage at 0x2555991ca90>"
      ]
     },
     "execution_count": 8,
     "metadata": {},
     "output_type": "execute_result"
    },
    {
     "data": {
      "image/png": "[encoded data removed]",
      "text/plain": [
       "<Figure size 432x288 with 1 Axes>"
      ]
     },
     "metadata": {
      "needs_background": "light"
     },
     "output_type": "display_data"
    }
   ],
   "source": [
    "plt.imshow(x_train[2])"
   ]
  },
  {
   "cell_type": "code",
   "execution_count": 9,
   "id": "6e53e00c",
   "metadata": {},
   "outputs": [],
   "source": [
    "x_train=x_train/255\n",
    "x_test=x_test/255"
   ]
  },
  {
   "cell_type": "code",
   "execution_count": 10,
   "id": "0eac42a8",
   "metadata": {},
   "outputs": [
    {
     "data": {
      "text/plain": [
       "((60000, 28, 28), (60000,))"
      ]
     },
     "execution_count": 10,
     "metadata": {},
     "output_type": "execute_result"
    }
   ],
   "source": [
    "x_train.shape,y_train.shape"
   ]
  },
  {
   "cell_type": "code",
   "execution_count": 11,
   "id": "cf6efc49",
   "metadata": {},
   "outputs": [],
   "source": [
    "x_valid,x_train=x_train[:6000],x_train[6000:]\n",
    "y_valid,y_train=y_train[:6000],y_train[6000:]"
   ]
  },
  {
   "cell_type": "code",
   "execution_count": 13,
   "id": "f9effe95",
   "metadata": {},
   "outputs": [],
   "source": [
    "import numpy as np\n",
    "np.random.seed(42)\n",
    "tf.random.set_seed(42)"
   ]
  },
  {
   "cell_type": "code",
   "execution_count": 15,
   "id": "e86cf54f",
   "metadata": {},
   "outputs": [],
   "source": [
    "model=keras.models.Sequential()\n",
    "model.add(keras.layers.Flatten(input_shape=[28,28]))\n",
    "model.add(keras.layers.Dense(200,activation='relu'))\n",
    "model.add(keras.layers.Dense(100,activation='relu'))\n",
    "model.add(keras.layers.Dense(10,activation='softmax'))"
   ]
  },
  {
   "cell_type": "code",
   "execution_count": 16,
   "id": "4a53bd67",
   "metadata": {},
   "outputs": [
    {
     "data": {
      "image/png": "[encoded data removed]",
      "text/plain": [
       "<IPython.core.display.Image object>"
      ]
     },
     "execution_count": 16,
     "metadata": {},
     "output_type": "execute_result"
    }
   ],
   "source": [
    "import pydot\n",
    "keras.utils.plot_model(model)"
   ]
  },
  {
   "cell_type": "code",
   "execution_count": 17,
   "id": "7ade49be",
   "metadata": {},
   "outputs": [
    {
     "name": "stdout",
     "output_type": "stream",
     "text": [
      "Model: \"sequential\"\n",
      "_________________________________________________________________\n",
      " Layer (type)                Output Shape              Param #   \n",
      "=================================================================\n",
      " flatten (Flatten)           (None, 784)               0         \n",
      "                                                                 \n",
      " dense (Dense)               (None, 200)               157000    \n",
      "                                                                 \n",
      " dense_1 (Dense)             (None, 100)               20100     \n",
      "                                                                 \n",
      " dense_2 (Dense)             (None, 10)                1010      \n",
      "                                                                 \n",
      "=================================================================\n",
      "Total params: 178,110\n",
      "Trainable params: 178,110\n",
      "Non-trainable params: 0\n",
      "_________________________________________________________________\n"
     ]
    }
   ],
   "source": [
    "model.summary()"
   ]
  },
  {
   "cell_type": "code",
   "execution_count": 18,
   "id": "56a30e7c",
   "metadata": {},
   "outputs": [],
   "source": [
    "model.compile(loss='sparse_categorical_crossentropy',optimizer='sgd',metrics=['accuracy'])"
   ]
  },
  {
   "cell_type": "code",
   "execution_count": 19,
   "id": "a72ac0c3",
   "metadata": {},
   "outputs": [
    {
     "name": "stdout",
     "output_type": "stream",
     "text": [
      "Epoch 1/60\n",
      "1688/1688 [==============================] - 5s 3ms/step - loss: 0.6607 - accuracy: 0.8267 - val_loss: 0.3216 - val_accuracy: 0.9125\n",
      "Epoch 2/60\n",
      "1688/1688 [==============================] - 4s 2ms/step - loss: 0.3006 - accuracy: 0.9141 - val_loss: 0.2585 - val_accuracy: 0.9283\n",
      "Epoch 3/60\n",
      "1688/1688 [==============================] - 4s 2ms/step - loss: 0.2488 - accuracy: 0.9292 - val_loss: 0.2254 - val_accuracy: 0.9383\n",
      "Epoch 4/60\n",
      "1688/1688 [==============================] - 4s 2ms/step - loss: 0.2151 - accuracy: 0.9390 - val_loss: 0.1961 - val_accuracy: 0.9442\n",
      "Epoch 5/60\n",
      "1688/1688 [==============================] - 4s 2ms/step - loss: 0.1893 - accuracy: 0.9461 - val_loss: 0.1790 - val_accuracy: 0.9483\n",
      "Epoch 6/60\n",
      "1688/1688 [==============================] - 4s 2ms/step - loss: 0.1690 - accuracy: 0.9517 - val_loss: 0.1638 - val_accuracy: 0.9523\n",
      "Epoch 7/60\n",
      "1688/1688 [==============================] - 4s 2ms/step - loss: 0.1521 - accuracy: 0.9569 - val_loss: 0.1482 - val_accuracy: 0.9592\n",
      "Epoch 8/60\n",
      "1688/1688 [==============================] - 4s 2ms/step - loss: 0.1378 - accuracy: 0.9610 - val_loss: 0.1416 - val_accuracy: 0.9608\n",
      "Epoch 9/60\n",
      "1688/1688 [==============================] - 4s 2ms/step - loss: 0.1260 - accuracy: 0.9642 - val_loss: 0.1315 - val_accuracy: 0.9648\n",
      "Epoch 10/60\n",
      "1688/1688 [==============================] - 4s 2ms/step - loss: 0.1157 - accuracy: 0.9672 - val_loss: 0.1271 - val_accuracy: 0.9635\n",
      "Epoch 11/60\n",
      "1688/1688 [==============================] - 4s 2ms/step - loss: 0.1066 - accuracy: 0.9697 - val_loss: 0.1157 - val_accuracy: 0.9675\n",
      "Epoch 12/60\n",
      "1688/1688 [==============================] - 4s 2ms/step - loss: 0.0991 - accuracy: 0.9723 - val_loss: 0.1118 - val_accuracy: 0.9698\n",
      "Epoch 13/60\n",
      "1688/1688 [==============================] - 4s 2ms/step - loss: 0.0917 - accuracy: 0.9746 - val_loss: 0.1057 - val_accuracy: 0.9710\n",
      "Epoch 14/60\n",
      "1688/1688 [==============================] - 4s 2ms/step - loss: 0.0857 - accuracy: 0.9765 - val_loss: 0.1005 - val_accuracy: 0.9718\n",
      "Epoch 15/60\n",
      "1688/1688 [==============================] - 4s 2ms/step - loss: 0.0802 - accuracy: 0.9777 - val_loss: 0.0990 - val_accuracy: 0.9725\n",
      "Epoch 16/60\n",
      "1688/1688 [==============================] - 4s 2ms/step - loss: 0.0752 - accuracy: 0.9794 - val_loss: 0.0946 - val_accuracy: 0.9727\n",
      "Epoch 17/60\n",
      "1688/1688 [==============================] - 4s 2ms/step - loss: 0.0707 - accuracy: 0.9808 - val_loss: 0.0934 - val_accuracy: 0.9727\n",
      "Epoch 18/60\n",
      "1688/1688 [==============================] - 4s 2ms/step - loss: 0.0659 - accuracy: 0.9818 - val_loss: 0.0894 - val_accuracy: 0.9755\n",
      "Epoch 19/60\n",
      "1688/1688 [==============================] - 4s 2ms/step - loss: 0.0625 - accuracy: 0.9830 - val_loss: 0.0894 - val_accuracy: 0.9732\n",
      "Epoch 20/60\n",
      "1688/1688 [==============================] - 4s 2ms/step - loss: 0.0587 - accuracy: 0.9841 - val_loss: 0.0874 - val_accuracy: 0.9750\n",
      "Epoch 21/60\n",
      "1688/1688 [==============================] - 4s 2ms/step - loss: 0.0555 - accuracy: 0.9851 - val_loss: 0.0865 - val_accuracy: 0.9758\n",
      "Epoch 22/60\n",
      "1688/1688 [==============================] - 4s 2ms/step - loss: 0.0525 - accuracy: 0.9859 - val_loss: 0.0838 - val_accuracy: 0.9757\n",
      "Epoch 23/60\n",
      "1688/1688 [==============================] - 4s 2ms/step - loss: 0.0496 - accuracy: 0.9864 - val_loss: 0.0831 - val_accuracy: 0.9765\n",
      "Epoch 24/60\n",
      "1688/1688 [==============================] - 4s 2ms/step - loss: 0.0468 - accuracy: 0.9874 - val_loss: 0.0825 - val_accuracy: 0.9762\n",
      "Epoch 25/60\n",
      "1688/1688 [==============================] - 4s 2ms/step - loss: 0.0443 - accuracy: 0.9884 - val_loss: 0.0834 - val_accuracy: 0.9745\n",
      "Epoch 26/60\n",
      "1688/1688 [==============================] - 4s 2ms/step - loss: 0.0420 - accuracy: 0.9888 - val_loss: 0.0813 - val_accuracy: 0.9765\n",
      "Epoch 27/60\n",
      "1688/1688 [==============================] - 4s 2ms/step - loss: 0.0398 - accuracy: 0.9893 - val_loss: 0.0772 - val_accuracy: 0.9782\n",
      "Epoch 28/60\n",
      "1688/1688 [==============================] - 4s 2ms/step - loss: 0.0378 - accuracy: 0.9902 - val_loss: 0.0772 - val_accuracy: 0.9767\n",
      "Epoch 29/60\n",
      "1688/1688 [==============================] - 4s 2ms/step - loss: 0.0358 - accuracy: 0.9906 - val_loss: 0.0760 - val_accuracy: 0.9778\n",
      "Epoch 30/60\n",
      "1688/1688 [==============================] - 4s 2ms/step - loss: 0.0339 - accuracy: 0.9916 - val_loss: 0.0784 - val_accuracy: 0.9768\n",
      "Epoch 31/60\n",
      "1688/1688 [==============================] - 4s 2ms/step - loss: 0.0322 - accuracy: 0.9920 - val_loss: 0.0752 - val_accuracy: 0.9780\n",
      "Epoch 32/60\n",
      "1688/1688 [==============================] - 4s 2ms/step - loss: 0.0304 - accuracy: 0.9926 - val_loss: 0.0774 - val_accuracy: 0.9778\n",
      "Epoch 33/60\n",
      "1688/1688 [==============================] - 4s 2ms/step - loss: 0.0290 - accuracy: 0.9931 - val_loss: 0.0765 - val_accuracy: 0.9780\n",
      "Epoch 34/60\n",
      "1688/1688 [==============================] - 4s 2ms/step - loss: 0.0274 - accuracy: 0.9937 - val_loss: 0.0765 - val_accuracy: 0.9775\n",
      "Epoch 35/60\n",
      "1688/1688 [==============================] - 4s 2ms/step - loss: 0.0260 - accuracy: 0.9941 - val_loss: 0.0749 - val_accuracy: 0.9782\n",
      "Epoch 36/60\n",
      "1688/1688 [==============================] - 4s 2ms/step - loss: 0.0246 - accuracy: 0.9946 - val_loss: 0.0799 - val_accuracy: 0.9768\n",
      "Epoch 37/60\n",
      "1688/1688 [==============================] - 4s 2ms/step - loss: 0.0237 - accuracy: 0.9944 - val_loss: 0.0756 - val_accuracy: 0.9775\n",
      "Epoch 38/60\n",
      "1688/1688 [==============================] - 4s 2ms/step - loss: 0.0223 - accuracy: 0.9953 - val_loss: 0.0761 - val_accuracy: 0.9783\n",
      "Epoch 39/60\n",
      "1688/1688 [==============================] - 4s 2ms/step - loss: 0.0212 - accuracy: 0.9959 - val_loss: 0.0751 - val_accuracy: 0.9783\n",
      "Epoch 40/60\n",
      "1688/1688 [==============================] - 4s 2ms/step - loss: 0.0202 - accuracy: 0.9961 - val_loss: 0.0758 - val_accuracy: 0.9782\n",
      "Epoch 41/60\n",
      "1688/1688 [==============================] - 4s 2ms/step - loss: 0.0191 - accuracy: 0.9968 - val_loss: 0.0754 - val_accuracy: 0.9783\n",
      "Epoch 42/60\n",
      "1688/1688 [==============================] - 4s 2ms/step - loss: 0.0183 - accuracy: 0.9968 - val_loss: 0.0771 - val_accuracy: 0.9778\n",
      "Epoch 43/60\n",
      "1688/1688 [==============================] - 4s 2ms/step - loss: 0.0174 - accuracy: 0.9971 - val_loss: 0.0821 - val_accuracy: 0.9765\n",
      "Epoch 44/60\n",
      "1688/1688 [==============================] - 4s 2ms/step - loss: 0.0166 - accuracy: 0.9973 - val_loss: 0.0756 - val_accuracy: 0.9785\n",
      "Epoch 45/60\n",
      "1688/1688 [==============================] - 4s 2ms/step - loss: 0.0157 - accuracy: 0.9977 - val_loss: 0.0758 - val_accuracy: 0.9778\n",
      "Epoch 46/60\n",
      "1688/1688 [==============================] - 4s 2ms/step - loss: 0.0151 - accuracy: 0.9979 - val_loss: 0.0763 - val_accuracy: 0.9778\n",
      "Epoch 47/60\n",
      "1688/1688 [==============================] - 4s 2ms/step - loss: 0.0143 - accuracy: 0.9979 - val_loss: 0.0770 - val_accuracy: 0.9780\n",
      "Epoch 48/60\n",
      "1688/1688 [==============================] - 4s 2ms/step - loss: 0.0137 - accuracy: 0.9984 - val_loss: 0.0772 - val_accuracy: 0.9770\n",
      "Epoch 49/60\n",
      "1688/1688 [==============================] - 4s 2ms/step - loss: 0.0130 - accuracy: 0.9982 - val_loss: 0.0778 - val_accuracy: 0.9777\n",
      "Epoch 50/60\n",
      "1688/1688 [==============================] - 4s 2ms/step - loss: 0.0124 - accuracy: 0.9986 - val_loss: 0.0793 - val_accuracy: 0.9772\n",
      "Epoch 51/60\n",
      "1688/1688 [==============================] - 4s 2ms/step - loss: 0.0119 - accuracy: 0.9986 - val_loss: 0.0771 - val_accuracy: 0.9780\n",
      "Epoch 52/60\n",
      "1688/1688 [==============================] - 4s 2ms/step - loss: 0.0114 - accuracy: 0.9988 - val_loss: 0.0764 - val_accuracy: 0.9782\n",
      "Epoch 53/60\n",
      "1688/1688 [==============================] - 4s 2ms/step - loss: 0.0109 - accuracy: 0.9988 - val_loss: 0.0781 - val_accuracy: 0.9782\n",
      "Epoch 54/60\n",
      "1688/1688 [==============================] - 4s 2ms/step - loss: 0.0105 - accuracy: 0.9989 - val_loss: 0.0764 - val_accuracy: 0.9788\n",
      "Epoch 55/60\n",
      "1688/1688 [==============================] - 4s 2ms/step - loss: 0.0100 - accuracy: 0.9990 - val_loss: 0.0782 - val_accuracy: 0.9778\n",
      "Epoch 56/60\n",
      "1688/1688 [==============================] - 4s 2ms/step - loss: 0.0095 - accuracy: 0.9991 - val_loss: 0.0789 - val_accuracy: 0.9778\n",
      "Epoch 57/60\n",
      "1688/1688 [==============================] - 4s 2ms/step - loss: 0.0091 - accuracy: 0.9993 - val_loss: 0.0794 - val_accuracy: 0.9777\n",
      "Epoch 58/60\n",
      "1688/1688 [==============================] - 4s 2ms/step - loss: 0.0088 - accuracy: 0.9992 - val_loss: 0.0776 - val_accuracy: 0.9780\n",
      "Epoch 59/60\n",
      "1688/1688 [==============================] - 4s 2ms/step - loss: 0.0085 - accuracy: 0.9993 - val_loss: 0.0800 - val_accuracy: 0.9772\n",
      "Epoch 60/60\n",
      "1688/1688 [==============================] - 4s 2ms/step - loss: 0.0081 - accuracy: 0.9993 - val_loss: 0.0806 - val_accuracy: 0.9778\n"
     ]
    }
   ],
   "source": [
    "model_history=model.fit(x_train,y_train,epochs=60,validation_data=(x_valid,y_valid))"
   ]
  },
  {
   "cell_type": "code",
   "execution_count": 20,
   "id": "51872f5d",
   "metadata": {},
   "outputs": [
    {
     "data": {
      "image/png": "[encoded data removed]",
      "text/plain": [
       "<Figure size 576x648 with 1 Axes>"
      ]
     },
     "metadata": {
      "needs_background": "light"
     },
     "output_type": "display_data"
    }
   ],
   "source": [
    "import pandas as pd\n",
    "pd.DataFrame(model_history.history).plot(figsize=(8,9))\n",
    "plt.grid=True\n",
    "plt.gca().set_ylim(0,1)\n",
    "plt.show()"
   ]
  },
  {
   "cell_type": "code",
   "execution_count": 21,
   "id": "8ef3742a",
   "metadata": {},
   "outputs": [
    {
     "name": "stdout",
     "output_type": "stream",
     "text": [
      "313/313 [==============================] - 1s 2ms/step - loss: 0.0741 - accuracy: 0.9791\n"
     ]
    },
    {
     "data": {
      "text/plain": [
       "[0.07409530878067017, 0.9790999889373779]"
      ]
     },
     "execution_count": 21,
     "metadata": {},
     "output_type": "execute_result"
    }
   ],
   "source": [
    "model.evaluate(x_test,y_test)"
   ]
  },
  {
   "cell_type": "code",
   "execution_count": 22,
   "id": "bc546a8e",
   "metadata": {},
   "outputs": [],
   "source": [
    "x_new=x_test[:5]"
   ]
  },
  {
   "cell_type": "code",
   "execution_count": 24,
   "id": "a48466eb",
   "metadata": {},
   "outputs": [
    {
     "name": "stdout",
     "output_type": "stream",
     "text": [
      "1/1 [==============================] - 0s 24ms/step\n"
     ]
    },
    {
     "data": {
      "text/plain": [
       "array([[1.10683075e-07, 1.85959670e-09, 1.56302292e-06, 5.27277625e-05,\n",
       "        6.90834001e-10, 1.72813557e-07, 2.97761788e-13, 9.99936104e-01,\n",
       "        6.73247996e-07, 8.69491760e-06],\n",
       "       [1.70013481e-09, 5.87294608e-07, 9.99998093e-01, 1.27232090e-06,\n",
       "        1.09293339e-15, 1.61000158e-10, 7.21288762e-09, 6.26785918e-17,\n",
       "        1.14326255e-08, 7.44635846e-18],\n",
       "       [1.14804482e-06, 9.99421239e-01, 8.40125085e-06, 1.65560016e-06,\n",
       "        2.25069714e-04, 1.71489557e-06, 1.47603268e-05, 2.47878401e-04,\n",
       "        7.71703781e-05, 1.09852056e-06],\n",
       "       [9.99998927e-01, 4.19759516e-08, 3.13149087e-07, 1.31617872e-09,\n",
       "        1.66872329e-08, 7.41535611e-10, 3.40740939e-07, 3.09842193e-07,\n",
       "        3.51875994e-12, 1.55205839e-07],\n",
       "       [7.53536426e-07, 1.23417472e-08, 1.19423591e-08, 1.19504573e-10,\n",
       "        9.98842299e-01, 3.59868890e-09, 7.05002549e-07, 2.68756912e-06,\n",
       "        2.44602461e-07, 1.15327153e-03]], dtype=float32)"
      ]
     },
     "execution_count": 24,
     "metadata": {},
     "output_type": "execute_result"
    }
   ],
   "source": [
    "yprob=model.predict(x_new)\n",
    "yprob"
   ]
  },
  {
   "cell_type": "code",
   "execution_count": 25,
   "id": "69836c70",
   "metadata": {},
   "outputs": [
    {
     "name": "stdout",
     "output_type": "stream",
     "text": [
      "1/1 [==============================] - 0s 32ms/step\n"
     ]
    }
   ],
   "source": [
    "y_pred=model.predict(x_new)"
   ]
  },
  {
   "cell_type": "code",
   "execution_count": 26,
   "id": "c95de41f",
   "metadata": {},
   "outputs": [
    {
     "data": {
      "text/plain": [
       "array([[1.10683075e-07, 1.85959670e-09, 1.56302292e-06, 5.27277625e-05,\n",
       "        6.90834001e-10, 1.72813557e-07, 2.97761788e-13, 9.99936104e-01,\n",
       "        6.73247996e-07, 8.69491760e-06],\n",
       "       [1.70013481e-09, 5.87294608e-07, 9.99998093e-01, 1.27232090e-06,\n",
       "        1.09293339e-15, 1.61000158e-10, 7.21288762e-09, 6.26785918e-17,\n",
       "        1.14326255e-08, 7.44635846e-18],\n",
       "       [1.14804482e-06, 9.99421239e-01, 8.40125085e-06, 1.65560016e-06,\n",
       "        2.25069714e-04, 1.71489557e-06, 1.47603268e-05, 2.47878401e-04,\n",
       "        7.71703781e-05, 1.09852056e-06],\n",
       "       [9.99998927e-01, 4.19759516e-08, 3.13149087e-07, 1.31617872e-09,\n",
       "        1.66872329e-08, 7.41535611e-10, 3.40740939e-07, 3.09842193e-07,\n",
       "        3.51875994e-12, 1.55205839e-07],\n",
       "       [7.53536426e-07, 1.23417472e-08, 1.19423591e-08, 1.19504573e-10,\n",
       "        9.98842299e-01, 3.59868890e-09, 7.05002549e-07, 2.68756912e-06,\n",
       "        2.44602461e-07, 1.15327153e-03]], dtype=float32)"
      ]
     },
     "execution_count": 26,
     "metadata": {},
     "output_type": "execute_result"
    }
   ],
   "source": [
    "y_pred"
   ]
  },
  {
   "cell_type": "code",
   "execution_count": 27,
   "id": "91437a84",
   "metadata": {},
   "outputs": [
    {
     "data": {
      "text/plain": [
       "<matplotlib.image.AxesImage at 0x255594fc0a0>"
      ]
     },
     "execution_count": 27,
     "metadata": {},
     "output_type": "execute_result"
    },
    {
     "data": {
      "image/png": "[encoded data removed]",
      "text/plain": [
       "<Figure size 432x288 with 1 Axes>"
      ]
     },
     "metadata": {
      "needs_background": "light"
     },
     "output_type": "display_data"
    }
   ],
   "source": [
    "plt.imshow(x_test[0])"
   ]
  },
  {
   "cell_type": "code",
   "execution_count": 28,
   "id": "6f1f5679",
   "metadata": {},
   "outputs": [
    {
     "data": {
      "text/plain": [
       "<matplotlib.image.AxesImage at 0x255595234c0>"
      ]
     },
     "execution_count": 28,
     "metadata": {},
     "output_type": "execute_result"
    },
    {
     "data": {
      "image/png": "[encoded data removed]",
      "text/plain": [
       "<Figure size 432x288 with 1 Axes>"
      ]
     },
     "metadata": {
      "needs_background": "light"
     },
     "output_type": "display_data"
    }
   ],
   "source": [
    "plt.imshow(x_test[1])"
   ]
  },
  {
   "cell_type": "code",
   "execution_count": 29,
   "id": "a312cafa",
   "metadata": {},
   "outputs": [
    {
     "data": {
      "text/plain": [
       "<matplotlib.image.AxesImage at 0x25559595a00>"
      ]
     },
     "execution_count": 29,
     "metadata": {},
     "output_type": "execute_result"
    },
    {
     "data": {
      "image/png": "[encoded data removed]",
      "text/plain": [
       "<Figure size 432x288 with 1 Axes>"
      ]
     },
     "metadata": {
      "needs_background": "light"
     },
     "output_type": "display_data"
    }
   ],
   "source": [
    "plt.imshow(x_test[3])"
   ]
  },
  {
   "cell_type": "code",
   "execution_count": 30,
   "id": "f82dbde7",
   "metadata": {},
   "outputs": [
    {
     "data": {
      "text/plain": [
       "<matplotlib.image.AxesImage at 0x255595f2fd0>"
      ]
     },
     "execution_count": 30,
     "metadata": {},
     "output_type": "execute_result"
    },
    {
     "data": {
      "image/png": "[encoded data removed]",
      "text/plain": [
       "<Figure size 432x288 with 1 Axes>"
      ]
     },
     "metadata": {
      "needs_background": "light"
     },
     "output_type": "display_data"
    }
   ],
   "source": [
    "plt.imshow(x_test[4])"
   ]
  },
  {
   "cell_type": "code",
   "execution_count": 31,
   "id": "20ecc654",
   "metadata": {},
   "outputs": [
    {
     "data": {
      "text/plain": [
       "<matplotlib.image.AxesImage at 0x255596586a0>"
      ]
     },
     "execution_count": 31,
     "metadata": {},
     "output_type": "execute_result"
    },
    {
     "data": {
      "image/png": "[encoded data removed]",
      "text/plain": [
       "<Figure size 432x288 with 1 Axes>"
      ]
     },
     "metadata": {
      "needs_background": "light"
     },
     "output_type": "display_data"
    }
   ],
   "source": [
    "plt.imshow(x_test[5])"
   ]
  },
  {
   "cell_type": "code",
   "execution_count": 32,
   "id": "d6a68c61",
   "metadata": {},
   "outputs": [
    {
     "ename": "AttributeError",
     "evalue": "'Sequential' object has no attribute 'predict_classes'",
     "output_type": "error",
     "traceback": [
      "\u001b[1;31m---------------------------------------------------------------------------\u001b[0m",
      "\u001b[1;31mAttributeError\u001b[0m                            Traceback (most recent call last)",
      "Input \u001b[1;32mIn [32]\u001b[0m, in \u001b[0;36m<cell line: 1>\u001b[1;34m()\u001b[0m\n\u001b[1;32m----> 1\u001b[0m y_pred\u001b[38;5;241m=\u001b[39m\u001b[43mmodel\u001b[49m\u001b[38;5;241;43m.\u001b[39;49m\u001b[43mpredict_classes\u001b[49m(x_new)\n",
      "\u001b[1;31mAttributeError\u001b[0m: 'Sequential' object has no attribute 'predict_classes'"
     ]
    }
   ],
   "source": [
    "y_pred=model.predict_classes(x_new)"
   ]
  },
  {
   "cell_type": "code",
   "execution_count": null,
   "id": "51982de9",
   "metadata": {},
   "outputs": [],
   "source": []
  }
 ],
 "metadata": {
  "kernelspec": {
   "display_name": "Python 3 (ipykernel)",
   "language": "python",
   "name": "python3"
  },
  "language_info": {
   "codemirror_mode": {
    "name": "ipython",
    "version": 3
   },
   "file_extension": ".py",
   "mimetype": "text/x-python",
   "name": "python",
   "nbconvert_exporter": "python",
   "pygments_lexer": "ipython3",
   "version": "3.9.12"
  }
 },
 "nbformat": 4,
 "nbformat_minor": 5
}
