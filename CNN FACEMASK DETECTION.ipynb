{
 "cells": [
  {
   "cell_type": "code",
   "execution_count": 2,
   "id": "27ef12d3",
   "metadata": {},
   "outputs": [],
   "source": [
    "import pandas as pd\n",
    "import numpy as np\n",
    "import tensorflow as tf\n",
    "from tensorflow import keras\n",
    "import matplotlib.pyplot as plt\n",
    "%matplotlib inline"
   ]
  },
  {
   "cell_type": "code",
   "execution_count": 3,
   "id": "cee835a2",
   "metadata": {},
   "outputs": [],
   "source": [
    "train_dir=r'C:\\Users\\kores\\Downloads\\Final_Assignment_Face Mask Dataset\\Train'\n",
    "valid_dir=r'C:\\Users\\kores\\Downloads\\Final_Assignment_Face Mask Dataset\\Validation'\n",
    "test_dir=r'C:\\Users\\kores\\Downloads\\Final_Assignment_Face Mask Dataset\\Test'"
   ]
  },
  {
   "cell_type": "code",
   "execution_count": 4,
   "id": "66263a53",
   "metadata": {},
   "outputs": [],
   "source": [
    "from tensorflow.keras.preprocessing.image import ImageDataGenerator"
   ]
  },
  {
   "cell_type": "code",
   "execution_count": 5,
   "id": "9defb0a6",
   "metadata": {},
   "outputs": [],
   "source": [
    "train_data=ImageDataGenerator(rescale=1./255,\n",
    "                             rotation_range=40,\n",
    "                             height_shift_range=0.2,\n",
    "                             width_shift_range=0.2,\n",
    "                             shear_range=0.2,\n",
    "                             zoom_range=0.2,\n",
    "                             horizontal_flip=True)\n",
    "valid_data=ImageDataGenerator(rescale=1./255)"
   ]
  },
  {
   "cell_type": "code",
   "execution_count": 6,
   "id": "e12ddccc",
   "metadata": {},
   "outputs": [
    {
     "name": "stdout",
     "output_type": "stream",
     "text": [
      "Found 10000 images belonging to 2 classes.\n",
      "Found 800 images belonging to 2 classes.\n"
     ]
    }
   ],
   "source": [
    "train_gen=train_data.flow_from_directory(\n",
    "    train_dir,\n",
    "    target_size=(128,128),\n",
    "    batch_size=20,\n",
    "    class_mode='binary')\n",
    "\n",
    "valid_gen=valid_data.flow_from_directory(\n",
    "    valid_dir,\n",
    "    target_size=(128,128),\n",
    "    batch_size=20,\n",
    "    class_mode='binary')"
   ]
  },
  {
   "cell_type": "code",
   "execution_count": 7,
   "id": "d78a137b",
   "metadata": {},
   "outputs": [],
   "source": [
    "from tensorflow.keras.applications import VGG19\n",
    "from keras import models\n",
    "from keras import layers\n"
   ]
  },
  {
   "cell_type": "code",
   "execution_count": 8,
   "id": "62d4f7d5",
   "metadata": {},
   "outputs": [],
   "source": [
    "conv_base=VGG19(\n",
    "    weights='imagenet',\n",
    "    include_top=False,\n",
    "    input_shape=(128,128,3))"
   ]
  },
  {
   "cell_type": "code",
   "execution_count": 9,
   "id": "22b1ff7b",
   "metadata": {},
   "outputs": [],
   "source": [
    "conv_base.trainable=False"
   ]
  },
  {
   "cell_type": "code",
   "execution_count": 10,
   "id": "4dd38351",
   "metadata": {},
   "outputs": [],
   "source": [
    "model=keras.Sequential()\n",
    "model.add(conv_base)\n",
    "model.add(layers.Flatten())\n",
    "model.add(layers.Dense(512,activation='relu'))\n",
    "model.add(layers.Dense(1,activation='sigmoid'))"
   ]
  },
  {
   "cell_type": "code",
   "execution_count": 11,
   "id": "b0577044",
   "metadata": {},
   "outputs": [],
   "source": [
    "from tensorflow.keras import optimizers\n",
    "model.compile(loss='binary_crossentropy',\n",
    "             optimizer=optimizers.RMSprop(learning_rate=(2e-5)),\n",
    "             metrics=['acc'])"
   ]
  },
  {
   "cell_type": "code",
   "execution_count": 14,
   "id": "c6d1ac29",
   "metadata": {},
   "outputs": [],
   "source": [
    "checkpoint_cb=keras.callbacks.ModelCheckpoint('face_model-{epoch:02d}.h5',save_best_only=True)"
   ]
  },
  {
   "cell_type": "code",
   "execution_count": 15,
   "id": "1fd5e1d7",
   "metadata": {},
   "outputs": [
    {
     "name": "stdout",
     "output_type": "stream",
     "text": [
      "Epoch 1/7\n",
      "500/500 [==============================] - 521s 1s/step - loss: 0.1820 - acc: 0.9385 - val_loss: 0.0552 - val_acc: 0.9825\n",
      "Epoch 2/7\n",
      "500/500 [==============================] - 480s 960ms/step - loss: 0.1262 - acc: 0.9546 - val_loss: 0.0540 - val_acc: 0.9825\n",
      "Epoch 3/7\n",
      "500/500 [==============================] - 472s 944ms/step - loss: 0.1002 - acc: 0.9650 - val_loss: 0.0335 - val_acc: 0.9887\n",
      "Epoch 4/7\n",
      "500/500 [==============================] - 474s 948ms/step - loss: 0.0956 - acc: 0.9663 - val_loss: 0.0369 - val_acc: 0.9875\n",
      "Epoch 5/7\n",
      "500/500 [==============================] - 475s 950ms/step - loss: 0.0884 - acc: 0.9679 - val_loss: 0.0224 - val_acc: 0.9887\n",
      "Epoch 6/7\n",
      "500/500 [==============================] - 786s 2s/step - loss: 0.0812 - acc: 0.9696 - val_loss: 0.0222 - val_acc: 0.9925\n",
      "Epoch 7/7\n",
      "500/500 [==============================] - 459s 918ms/step - loss: 0.0825 - acc: 0.9690 - val_loss: 0.0180 - val_acc: 0.9950\n"
     ]
    }
   ],
   "source": [
    "model_history=model.fit(\n",
    "    train_gen,\n",
    "    steps_per_epoch=500,\n",
    "    epochs=7,\n",
    "    validation_data=valid_gen,\n",
    "    validation_steps=40,\n",
    "    callbacks=[checkpoint_cb])"
   ]
  },
  {
   "cell_type": "code",
   "execution_count": 17,
   "id": "db3e8ee6",
   "metadata": {},
   "outputs": [
    {
     "data": {
      "image/png": "[encoded data removed]",
      "text/plain": [
       "<Figure size 864x576 with 1 Axes>"
      ]
     },
     "metadata": {
      "needs_background": "light"
     },
     "output_type": "display_data"
    }
   ],
   "source": [
    "pd.DataFrame(model_history.history).plot(figsize=(12,8))\n",
    "plt.grid(True)\n",
    "plt.gca().set_ylim(0,1)\n",
    "plt.show()"
   ]
  },
  {
   "cell_type": "code",
   "execution_count": 18,
   "id": "ffa0a7b0",
   "metadata": {},
   "outputs": [],
   "source": [
    "test_data=ImageDataGenerator(rescale=1./255)"
   ]
  },
  {
   "cell_type": "code",
   "execution_count": 19,
   "id": "d5f3f445",
   "metadata": {},
   "outputs": [
    {
     "name": "stdout",
     "output_type": "stream",
     "text": [
      "Found 992 images belonging to 2 classes.\n"
     ]
    }
   ],
   "source": [
    "test_gen=test_data.flow_from_directory(\n",
    "    test_dir,\n",
    "    target_size=(128,128),\n",
    "    batch_size=20,\n",
    "    class_mode='binary'\n",
    "    )"
   ]
  },
  {
   "cell_type": "code",
   "execution_count": 20,
   "id": "3eb6eb6b",
   "metadata": {},
   "outputs": [
    {
     "name": "stdout",
     "output_type": "stream",
     "text": [
      "50/50 [==============================] - 36s 723ms/step - loss: 0.0291 - acc: 0.9899\n"
     ]
    },
    {
     "data": {
      "text/plain": [
       "[0.02906920202076435, 0.9899193644523621]"
      ]
     },
     "execution_count": 20,
     "metadata": {},
     "output_type": "execute_result"
    }
   ],
   "source": [
    "model.evaluate(test_gen)"
   ]
  }
 ],
 "metadata": {
  "kernelspec": {
   "display_name": "Python 3 (ipykernel)",
   "language": "python",
   "name": "python3"
  },
  "language_info": {
   "codemirror_mode": {
    "name": "ipython",
    "version": 3
   },
   "file_extension": ".py",
   "mimetype": "text/x-python",
   "name": "python",
   "nbconvert_exporter": "python",
   "pygments_lexer": "ipython3",
   "version": "3.9.12"
  }
 },
 "nbformat": 4,
 "nbformat_minor": 5
}
