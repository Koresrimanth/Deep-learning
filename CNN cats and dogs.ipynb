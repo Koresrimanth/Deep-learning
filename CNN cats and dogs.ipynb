{
 "cells": [
  {
   "cell_type": "code",
   "execution_count": 6,
   "id": "ce62ed6b",
   "metadata": {},
   "outputs": [],
   "source": [
    "import tensorflow as tf\n",
    "from tensorflow import keras\n",
    "import matplotlib.pyplot as plt\n",
    "%matplotlib inline\n",
    "import numpy as np"
   ]
  },
  {
   "cell_type": "code",
   "execution_count": 7,
   "id": "597d24cd",
   "metadata": {},
   "outputs": [],
   "source": [
    "train_dir=r'C:\\Users\\kores\\OneDrive\\Desktop\\train'\n",
    "validation_dir=r'C:\\Users\\kores\\OneDrive\\Desktop\\validation'\n",
    "test_dir=r'\\Users\\kores\\OneDrive\\Desktop\\test'"
   ]
  },
  {
   "cell_type": "code",
   "execution_count": 8,
   "id": "e830c402",
   "metadata": {},
   "outputs": [],
   "source": [
    "from tensorflow.keras.preprocessing.image import ImageDataGenerator"
   ]
  },
  {
   "cell_type": "code",
   "execution_count": 9,
   "id": "f19ffd56",
   "metadata": {},
   "outputs": [],
   "source": [
    "train_data=ImageDataGenerator(rescale=1./255)\n",
    "valid_data=ImageDataGenerator(rescale=1./255)"
   ]
  },
  {
   "cell_type": "code",
   "execution_count": 10,
   "id": "4357d82d",
   "metadata": {},
   "outputs": [
    {
     "name": "stdout",
     "output_type": "stream",
     "text": [
      "Found 2000 images belonging to 2 classes.\n",
      "Found 1000 images belonging to 2 classes.\n"
     ]
    }
   ],
   "source": [
    "train_gen=train_data.flow_from_directory(\n",
    "                train_dir,\n",
    "                target_size=(150,150),\n",
    "                batch_size=20,\n",
    "                class_mode='binary')\n",
    "valid_gen=valid_data.flow_from_directory(\n",
    "                validation_dir,\n",
    "                target_size=(150,150),\n",
    "                batch_size=20,\n",
    "                class_mode='binary')"
   ]
  },
  {
   "cell_type": "code",
   "execution_count": 11,
   "id": "ef54f079",
   "metadata": {},
   "outputs": [],
   "source": [
    "from tensorflow.keras import layers\n",
    "from tensorflow.keras import models"
   ]
  },
  {
   "cell_type": "code",
   "execution_count": null,
   "id": "8bd310db",
   "metadata": {},
   "outputs": [],
   "source": [
    "model=models.Sequential()\n",
    "\n",
    "model.add(layers.Conv2D(32,(3,3),activation='relu',\n",
    "                       input_shape=(150,150,3)))\n",
    "model.add(layers.MaxPooling2D((2,2)))\n",
    "\n",
    "model.add(layers.Conv2D(64,(3,3),activation='relu'))\n",
    "model.add(layers.MaxPooling2D((2,2)))\n",
    "\n",
    "model.add(layers.Conv2D(128,(3,3),activation='relu'))\n",
    "model.add(layers.MaxPooling2D((2,2)))\n",
    "\n",
    "model.add(layers.Conv2D(128,(3,3),activation='relu'))\n",
    "model.add(layers.MaxPooling2D((2,2)))\n",
    "\n",
    "model.add(layers.Flatten())\n",
    "\n",
    "model.add(layers.Dense(512,activation='relu'))\n",
    "model.add(layers.Dense(1,activation='sigmoid'))"
   ]
  },
  {
   "cell_type": "code",
   "execution_count": null,
   "id": "fb956653",
   "metadata": {},
   "outputs": [],
   "source": [
    "model.summary()"
   ]
  },
  {
   "cell_type": "code",
   "execution_count": null,
   "id": "efdd362c",
   "metadata": {},
   "outputs": [],
   "source": [
    "from tensorflow.keras import optimizers\n",
    "\n",
    "model.compile(loss='binary_crossentropy',\n",
    "             optimizer=optimizers.RMSprop(learning_rate=1e-4),\n",
    "             metrics=['acc'])"
   ]
  },
  {
   "cell_type": "code",
   "execution_count": null,
   "id": "064bebe3",
   "metadata": {},
   "outputs": [],
   "source": [
    "model_history=model.fit(train_gen,\n",
    "                       steps_per_epoch=100,\n",
    "                       epochs=20,\n",
    "                       validation_data=valid_gen,\n",
    "                       validation_steps=50)"
   ]
  },
  {
   "cell_type": "code",
   "execution_count": null,
   "id": "70f6c3bf",
   "metadata": {},
   "outputs": [],
   "source": [
    "import pandas as pd\n",
    "pd.DataFrame(model_history.history).plot(figsize=(12,8))\n",
    "plt.grid(True)\n",
    "plt.gca().set_ylim(0,1)\n",
    "plt.show()"
   ]
  },
  {
   "cell_type": "code",
   "execution_count": null,
   "id": "30fd4ed7",
   "metadata": {},
   "outputs": [],
   "source": []
  },
  {
   "cell_type": "markdown",
   "id": "1940905f",
   "metadata": {},
   "source": [
    "this graph shows that the model is overfitting because with each epoch training accuracy is increasing but the validation accuracy is not increasing"
   ]
  },
  {
   "cell_type": "code",
   "execution_count": 21,
   "id": "4a5a11e6",
   "metadata": {},
   "outputs": [],
   "source": [
    "model.save('catvsdog.h5')"
   ]
  },
  {
   "cell_type": "code",
   "execution_count": 22,
   "id": "96ddd48c",
   "metadata": {},
   "outputs": [],
   "source": [
    "from tensorflow.keras import backend as b"
   ]
  },
  {
   "cell_type": "code",
   "execution_count": 23,
   "id": "24031317",
   "metadata": {},
   "outputs": [],
   "source": [
    "b.clear_session()\n"
   ]
  },
  {
   "cell_type": "code",
   "execution_count": 24,
   "id": "08317d56",
   "metadata": {},
   "outputs": [],
   "source": [
    "del model"
   ]
  },
  {
   "cell_type": "markdown",
   "id": "f300c232",
   "metadata": {},
   "source": [
    "# data augmentation"
   ]
  },
  {
   "cell_type": "markdown",
   "id": "0b2f8026",
   "metadata": {},
   "source": [
    "# data augmentation"
   ]
  },
  {
   "cell_type": "code",
   "execution_count": 12,
   "id": "17a24001",
   "metadata": {},
   "outputs": [],
   "source": [
    "train_data=ImageDataGenerator(\n",
    "                    rescale=1./255,\n",
    "                    rotation_range=40,\n",
    "                    width_shift_range=0.2,\n",
    "                    height_shift_range=0.2,\n",
    "                    shear_range=0.2,\n",
    "                    zoom_range=0.2,\n",
    "                    horizontal_flip=True,)"
   ]
  },
  {
   "cell_type": "code",
   "execution_count": 13,
   "id": "ecaec4ec",
   "metadata": {},
   "outputs": [],
   "source": [
    "valid_data=ImageDataGenerator(rescale=1./255)"
   ]
  },
  {
   "cell_type": "code",
   "execution_count": 14,
   "id": "6312add2",
   "metadata": {},
   "outputs": [
    {
     "name": "stdout",
     "output_type": "stream",
     "text": [
      "Found 2000 images belonging to 2 classes.\n"
     ]
    }
   ],
   "source": [
    "train_g=train_data.flow_from_directory(\n",
    "    train_dir,\n",
    "    target_size=(150,150),\n",
    "    batch_size=20,\n",
    "    class_mode='binary')"
   ]
  },
  {
   "cell_type": "code",
   "execution_count": 15,
   "id": "75b3251c",
   "metadata": {},
   "outputs": [
    {
     "name": "stdout",
     "output_type": "stream",
     "text": [
      "Found 1000 images belonging to 2 classes.\n"
     ]
    }
   ],
   "source": [
    "valid_g=valid_data.flow_from_directory(\n",
    "    validation_dir,\n",
    "    target_size=(150,150),\n",
    "    batch_size=20,\n",
    "    class_mode='binary')"
   ]
  },
  {
   "cell_type": "code",
   "execution_count": 16,
   "id": "a82dc5c6",
   "metadata": {},
   "outputs": [],
   "source": [
    "model=models.Sequential()\n",
    "\n",
    "model.add(layers.Conv2D(32,(3,3),activation='relu',\n",
    "                       input_shape=(150,150,3)))\n",
    "model.add(layers.MaxPooling2D((2,2)))\n",
    "\n",
    "model.add(layers.Conv2D(64,(3,3),activation='relu'))\n",
    "model.add(layers.MaxPooling2D((2,2)))\n",
    "\n",
    "model.add(layers.Conv2D(128,(3,3),activation='relu'))\n",
    "model.add(layers.MaxPooling2D((2,2)))\n",
    "\n",
    "model.add(layers.Conv2D(128,(3,3),activation='relu'))\n",
    "model.add(layers.MaxPooling2D((2,2)))\n",
    "\n",
    "model.add(layers.Flatten())\n",
    "model.add(layers.Dropout(0.5))\n",
    "\n",
    "model.add(layers.Dense(512,activation='relu'))\n",
    "model.add(layers.Dense(1,activation='sigmoid'))"
   ]
  },
  {
   "cell_type": "code",
   "execution_count": 17,
   "id": "10a7ba06",
   "metadata": {},
   "outputs": [],
   "source": [
    "from tensorflow.keras import optimizers\n",
    "\n",
    "model.compile(loss='binary_crossentropy',\n",
    "             optimizer=optimizers.RMSprop(learning_rate=1e-4),\n",
    "             metrics=['acc'])"
   ]
  },
  {
   "cell_type": "code",
   "execution_count": 33,
   "id": "21237722",
   "metadata": {},
   "outputs": [
    {
     "name": "stdout",
     "output_type": "stream",
     "text": [
      "Epoch 1/50\n",
      "100/100 [==============================] - 36s 359ms/step - loss: 0.4664 - acc: 0.7735 - val_loss: 0.4809 - val_acc: 0.7590\n",
      "Epoch 2/50\n",
      "100/100 [==============================] - 36s 359ms/step - loss: 0.4612 - acc: 0.7840 - val_loss: 0.4446 - val_acc: 0.8010\n",
      "Epoch 3/50\n",
      "100/100 [==============================] - 38s 381ms/step - loss: 0.4661 - acc: 0.7785 - val_loss: 0.4689 - val_acc: 0.7630\n",
      "Epoch 4/50\n",
      "100/100 [==============================] - 37s 371ms/step - loss: 0.4644 - acc: 0.7815 - val_loss: 0.4982 - val_acc: 0.7590\n",
      "Epoch 5/50\n",
      "100/100 [==============================] - 35s 349ms/step - loss: 0.4467 - acc: 0.7935 - val_loss: 0.5355 - val_acc: 0.7580\n",
      "Epoch 6/50\n",
      "100/100 [==============================] - 36s 363ms/step - loss: 0.4641 - acc: 0.7765 - val_loss: 0.4475 - val_acc: 0.8000\n",
      "Epoch 7/50\n",
      "100/100 [==============================] - 36s 359ms/step - loss: 0.4666 - acc: 0.7745 - val_loss: 0.4984 - val_acc: 0.7690\n",
      "Epoch 8/50\n",
      "100/100 [==============================] - 35s 346ms/step - loss: 0.4486 - acc: 0.7830 - val_loss: 0.4574 - val_acc: 0.7900\n",
      "Epoch 9/50\n",
      "100/100 [==============================] - 36s 361ms/step - loss: 0.4449 - acc: 0.7855 - val_loss: 0.4542 - val_acc: 0.7730\n",
      "Epoch 10/50\n",
      "100/100 [==============================] - 37s 372ms/step - loss: 0.4589 - acc: 0.7860 - val_loss: 0.4577 - val_acc: 0.7910\n",
      "Epoch 11/50\n",
      "100/100 [==============================] - 35s 350ms/step - loss: 0.4488 - acc: 0.7775 - val_loss: 0.4697 - val_acc: 0.7910\n",
      "Epoch 12/50\n",
      "100/100 [==============================] - 37s 370ms/step - loss: 0.4501 - acc: 0.7835 - val_loss: 0.4645 - val_acc: 0.7830\n",
      "Epoch 13/50\n",
      "100/100 [==============================] - 35s 354ms/step - loss: 0.4301 - acc: 0.7875 - val_loss: 0.4594 - val_acc: 0.8040\n",
      "Epoch 14/50\n",
      "100/100 [==============================] - 36s 357ms/step - loss: 0.4422 - acc: 0.7970 - val_loss: 0.4333 - val_acc: 0.7980\n",
      "Epoch 15/50\n",
      "100/100 [==============================] - 37s 367ms/step - loss: 0.4474 - acc: 0.7950 - val_loss: 0.4662 - val_acc: 0.7820\n",
      "Epoch 16/50\n",
      "100/100 [==============================] - 36s 362ms/step - loss: 0.4349 - acc: 0.8035 - val_loss: 0.4278 - val_acc: 0.8050\n",
      "Epoch 17/50\n",
      "100/100 [==============================] - 35s 351ms/step - loss: 0.4483 - acc: 0.7895 - val_loss: 0.6159 - val_acc: 0.7020\n",
      "Epoch 18/50\n",
      "100/100 [==============================] - 37s 366ms/step - loss: 0.4391 - acc: 0.7990 - val_loss: 0.4449 - val_acc: 0.7870\n",
      "Epoch 19/50\n",
      "100/100 [==============================] - 36s 357ms/step - loss: 0.4320 - acc: 0.8050 - val_loss: 0.5015 - val_acc: 0.7690\n",
      "Epoch 20/50\n",
      "100/100 [==============================] - 34s 342ms/step - loss: 0.4316 - acc: 0.7960 - val_loss: 0.5034 - val_acc: 0.7830\n",
      "Epoch 21/50\n",
      "100/100 [==============================] - 37s 369ms/step - loss: 0.4343 - acc: 0.7830 - val_loss: 0.5362 - val_acc: 0.7450\n",
      "Epoch 22/50\n",
      "100/100 [==============================] - 36s 361ms/step - loss: 0.4229 - acc: 0.8005 - val_loss: 0.4812 - val_acc: 0.7830\n",
      "Epoch 23/50\n",
      "100/100 [==============================] - 35s 346ms/step - loss: 0.4339 - acc: 0.7925 - val_loss: 0.4282 - val_acc: 0.8040\n",
      "Epoch 24/50\n",
      "100/100 [==============================] - 37s 372ms/step - loss: 0.4112 - acc: 0.8055 - val_loss: 0.4193 - val_acc: 0.8090\n",
      "Epoch 25/50\n",
      "100/100 [==============================] - 36s 361ms/step - loss: 0.4335 - acc: 0.7895 - val_loss: 0.4214 - val_acc: 0.8010\n",
      "Epoch 26/50\n",
      "100/100 [==============================] - 35s 345ms/step - loss: 0.4165 - acc: 0.8080 - val_loss: 0.5074 - val_acc: 0.7670\n",
      "Epoch 27/50\n",
      "100/100 [==============================] - 36s 355ms/step - loss: 0.4364 - acc: 0.7935 - val_loss: 0.4628 - val_acc: 0.7840\n",
      "Epoch 28/50\n",
      "100/100 [==============================] - 37s 369ms/step - loss: 0.4186 - acc: 0.8065 - val_loss: 0.4395 - val_acc: 0.7890\n",
      "Epoch 29/50\n",
      "100/100 [==============================] - 35s 350ms/step - loss: 0.4108 - acc: 0.8100 - val_loss: 0.4493 - val_acc: 0.8140\n",
      "Epoch 30/50\n",
      "100/100 [==============================] - 37s 374ms/step - loss: 0.4248 - acc: 0.8085 - val_loss: 0.4477 - val_acc: 0.7880\n",
      "Epoch 31/50\n",
      "100/100 [==============================] - 36s 360ms/step - loss: 0.4153 - acc: 0.8160 - val_loss: 0.4640 - val_acc: 0.7960\n",
      "Epoch 32/50\n",
      "100/100 [==============================] - 35s 347ms/step - loss: 0.4062 - acc: 0.8170 - val_loss: 0.4298 - val_acc: 0.8060\n",
      "Epoch 33/50\n",
      "100/100 [==============================] - 37s 365ms/step - loss: 0.4060 - acc: 0.8110 - val_loss: 0.3997 - val_acc: 0.8170\n",
      "Epoch 34/50\n",
      "100/100 [==============================] - 36s 360ms/step - loss: 0.4133 - acc: 0.7990 - val_loss: 0.4412 - val_acc: 0.7800\n",
      "Epoch 35/50\n",
      "100/100 [==============================] - 36s 360ms/step - loss: 0.4112 - acc: 0.8010 - val_loss: 0.4289 - val_acc: 0.8050\n",
      "Epoch 36/50\n",
      "100/100 [==============================] - 38s 375ms/step - loss: 0.3974 - acc: 0.8195 - val_loss: 0.5186 - val_acc: 0.7690\n",
      "Epoch 37/50\n",
      "100/100 [==============================] - 36s 354ms/step - loss: 0.3928 - acc: 0.8150 - val_loss: 0.4109 - val_acc: 0.8240\n",
      "Epoch 38/50\n",
      "100/100 [==============================] - 36s 355ms/step - loss: 0.3900 - acc: 0.8220 - val_loss: 0.5363 - val_acc: 0.7750\n",
      "Epoch 39/50\n",
      "100/100 [==============================] - 36s 363ms/step - loss: 0.4012 - acc: 0.8230 - val_loss: 0.4574 - val_acc: 0.8060\n",
      "Epoch 40/50\n",
      "100/100 [==============================] - 36s 362ms/step - loss: 0.4077 - acc: 0.8150 - val_loss: 0.3996 - val_acc: 0.8210\n",
      "Epoch 41/50\n",
      "100/100 [==============================] - 35s 348ms/step - loss: 0.4001 - acc: 0.8135 - val_loss: 0.4439 - val_acc: 0.8040\n",
      "Epoch 42/50\n",
      "100/100 [==============================] - 33s 330ms/step - loss: 0.3892 - acc: 0.8300 - val_loss: 0.4142 - val_acc: 0.8140\n",
      "Epoch 43/50\n",
      "100/100 [==============================] - 34s 344ms/step - loss: 0.3945 - acc: 0.8285 - val_loss: 0.4017 - val_acc: 0.8260\n",
      "Epoch 44/50\n",
      "100/100 [==============================] - 34s 336ms/step - loss: 0.3872 - acc: 0.8250 - val_loss: 0.5793 - val_acc: 0.7340\n",
      "Epoch 45/50\n",
      "100/100 [==============================] - 34s 342ms/step - loss: 0.3887 - acc: 0.8235 - val_loss: 0.4165 - val_acc: 0.8220\n",
      "Epoch 46/50\n",
      "100/100 [==============================] - 34s 342ms/step - loss: 0.3878 - acc: 0.8180 - val_loss: 0.4449 - val_acc: 0.8170\n",
      "Epoch 47/50\n",
      "100/100 [==============================] - 33s 329ms/step - loss: 0.3759 - acc: 0.8250 - val_loss: 0.4530 - val_acc: 0.7990\n",
      "Epoch 48/50\n",
      "100/100 [==============================] - 34s 340ms/step - loss: 0.3913 - acc: 0.8320 - val_loss: 0.4275 - val_acc: 0.8190\n",
      "Epoch 49/50\n",
      "100/100 [==============================] - 34s 340ms/step - loss: 0.3934 - acc: 0.8185 - val_loss: 0.4715 - val_acc: 0.7920\n",
      "Epoch 50/50\n",
      "100/100 [==============================] - 33s 328ms/step - loss: 0.3764 - acc: 0.8240 - val_loss: 0.4414 - val_acc: 0.8150\n"
     ]
    }
   ],
   "source": [
    "model_history=model.fit_generator(train_g,\n",
    "                       steps_per_epoch=100,\n",
    "                       epochs=50,\n",
    "                       validation_data=valid_g,\n",
    "                       validation_steps=50)"
   ]
  },
  {
   "cell_type": "code",
   "execution_count": 18,
   "id": "3552c771",
   "metadata": {},
   "outputs": [
    {
     "ename": "NameError",
     "evalue": "name 'model_history' is not defined",
     "output_type": "error",
     "traceback": [
      "\u001b[1;31m---------------------------------------------------------------------------\u001b[0m",
      "\u001b[1;31mNameError\u001b[0m                                 Traceback (most recent call last)",
      "Input \u001b[1;32mIn [18]\u001b[0m, in \u001b[0;36m<cell line: 2>\u001b[1;34m()\u001b[0m\n\u001b[0;32m      1\u001b[0m \u001b[38;5;28;01mimport\u001b[39;00m \u001b[38;5;21;01mpandas\u001b[39;00m \u001b[38;5;28;01mas\u001b[39;00m \u001b[38;5;21;01mpd\u001b[39;00m\n\u001b[1;32m----> 2\u001b[0m pd\u001b[38;5;241m.\u001b[39mDataFrame(\u001b[43mmodel_history\u001b[49m\u001b[38;5;241m.\u001b[39mhistory)\u001b[38;5;241m.\u001b[39mplot(figsize\u001b[38;5;241m=\u001b[39m(\u001b[38;5;241m12\u001b[39m,\u001b[38;5;241m8\u001b[39m))\n\u001b[0;32m      3\u001b[0m plt\u001b[38;5;241m.\u001b[39mgrid(\u001b[38;5;28;01mTrue\u001b[39;00m)\n\u001b[0;32m      4\u001b[0m plt\u001b[38;5;241m.\u001b[39mgca()\u001b[38;5;241m.\u001b[39mset_ylim(\u001b[38;5;241m0\u001b[39m,\u001b[38;5;241m1\u001b[39m)\n",
      "\u001b[1;31mNameError\u001b[0m: name 'model_history' is not defined"
     ]
    }
   ],
   "source": [
    "import pandas as pd\n",
    "pd.DataFrame(model_history.history).plot(figsize=(12,8))\n",
    "plt.grid(True)\n",
    "plt.gca().set_ylim(0,1)\n",
    "plt.show()"
   ]
  },
  {
   "cell_type": "code",
   "execution_count": 35,
   "id": "42434183",
   "metadata": {},
   "outputs": [],
   "source": [
    "model.save('project_cd.h5')"
   ]
  },
  {
   "cell_type": "code",
   "execution_count": null,
   "id": "058f98e7",
   "metadata": {},
   "outputs": [],
   "source": []
  },
  {
   "cell_type": "code",
   "execution_count": 2,
   "id": "89e232c6",
   "metadata": {},
   "outputs": [],
   "source": [
    "from tensorflow.keras.preprocessing import image\n",
    "test_image = image.load_img(r\"C:\\Users\\kores\\OneDrive\\Desktop\\test\\cats\\cat.1502.jpg\", target_size = (150,150))"
   ]
  },
  {
   "cell_type": "code",
   "execution_count": 3,
   "id": "aac3f30a",
   "metadata": {},
   "outputs": [],
   "source": [
    "test_image=image.img_to_array(test_image)"
   ]
  },
  {
   "cell_type": "code",
   "execution_count": 4,
   "id": "1fc1d318",
   "metadata": {},
   "outputs": [
    {
     "data": {
      "text/plain": [
       "array([[[111., 134., 126.],\n",
       "        [111., 134., 126.],\n",
       "        [115., 138., 130.],\n",
       "        ...,\n",
       "        [129., 137., 139.],\n",
       "        [129., 137., 140.],\n",
       "        [128., 136., 139.]],\n",
       "\n",
       "       [[110., 133., 125.],\n",
       "        [117., 140., 132.],\n",
       "        [115., 138., 130.],\n",
       "        ...,\n",
       "        [130., 140., 141.],\n",
       "        [128., 138., 140.],\n",
       "        [125., 135., 137.]],\n",
       "\n",
       "       [[112., 135., 127.],\n",
       "        [115., 138., 130.],\n",
       "        [117., 140., 132.],\n",
       "        ...,\n",
       "        [121., 133., 133.],\n",
       "        [124., 135., 137.],\n",
       "        [123., 134., 136.]],\n",
       "\n",
       "       ...,\n",
       "\n",
       "       [[110., 140., 130.],\n",
       "        [108., 138., 128.],\n",
       "        [109., 139., 129.],\n",
       "        ...,\n",
       "        [111., 134., 124.],\n",
       "        [114., 137., 127.],\n",
       "        [110., 133., 123.]],\n",
       "\n",
       "       [[114., 144., 134.],\n",
       "        [110., 140., 130.],\n",
       "        [112., 142., 132.],\n",
       "        ...,\n",
       "        [116., 139., 129.],\n",
       "        [112., 135., 125.],\n",
       "        [109., 132., 122.]],\n",
       "\n",
       "       [[111., 141., 131.],\n",
       "        [113., 143., 133.],\n",
       "        [112., 142., 132.],\n",
       "        ...,\n",
       "        [111., 134., 124.],\n",
       "        [111., 134., 124.],\n",
       "        [107., 130., 120.]]], dtype=float32)"
      ]
     },
     "execution_count": 4,
     "metadata": {},
     "output_type": "execute_result"
    }
   ],
   "source": [
    "test_image"
   ]
  },
  {
   "cell_type": "code",
   "execution_count": 19,
   "id": "cd1c88ed",
   "metadata": {},
   "outputs": [],
   "source": [
    "test_image=np.expand_dims(test_image,axis=0)"
   ]
  },
  {
   "cell_type": "code",
   "execution_count": 20,
   "id": "d24d9319",
   "metadata": {},
   "outputs": [
    {
     "name": "stdout",
     "output_type": "stream",
     "text": [
      "1/1 [==============================] - 0s 424ms/step\n"
     ]
    }
   ],
   "source": [
    "result=model.predict(test_image)"
   ]
  },
  {
   "cell_type": "code",
   "execution_count": 22,
   "id": "9181f9b4",
   "metadata": {},
   "outputs": [
    {
     "name": "stdout",
     "output_type": "stream",
     "text": [
      "[[1.]]\n"
     ]
    }
   ],
   "source": [
    "print(result)"
   ]
  }
 ],
 "metadata": {
  "kernelspec": {
   "display_name": "Python 3 (ipykernel)",
   "language": "python",
   "name": "python3"
  },
  "language_info": {
   "codemirror_mode": {
    "name": "ipython",
    "version": 3
   },
   "file_extension": ".py",
   "mimetype": "text/x-python",
   "name": "python",
   "nbconvert_exporter": "python",
   "pygments_lexer": "ipython3",
   "version": "3.9.12"
  }
 },
 "nbformat": 4,
 "nbformat_minor": 5
}
