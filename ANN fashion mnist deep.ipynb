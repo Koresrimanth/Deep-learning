{
 "cells": [
  {
   "cell_type": "code",
   "execution_count": 3,
   "id": "278128aa",
   "metadata": {},
   "outputs": [],
   "source": [
    "import tensorflow as tf\n",
    "from tensorflow import keras\n",
    "import matplotlib.pyplot as plt\n",
    "%matplotlib inline\n",
    "import numpy as np"
   ]
  },
  {
   "cell_type": "code",
   "execution_count": 4,
   "id": "d61e56ff",
   "metadata": {},
   "outputs": [
    {
     "data": {
      "text/plain": [
       "'2.9.0'"
      ]
     },
     "execution_count": 4,
     "metadata": {},
     "output_type": "execute_result"
    }
   ],
   "source": [
    "keras.__version__"
   ]
  },
  {
   "cell_type": "code",
   "execution_count": 5,
   "id": "369aa97d",
   "metadata": {},
   "outputs": [
    {
     "data": {
      "text/plain": [
       "'2.9.1'"
      ]
     },
     "execution_count": 5,
     "metadata": {},
     "output_type": "execute_result"
    }
   ],
   "source": [
    "tf.__version__"
   ]
  },
  {
   "cell_type": "code",
   "execution_count": 6,
   "id": "7fc2c361",
   "metadata": {},
   "outputs": [],
   "source": [
    "fashion_mnist=keras.datasets.fashion_mnist\n",
    "(x_train,y_train),(x_test,y_test)=fashion_mnist.load_data()"
   ]
  },
  {
   "cell_type": "code",
   "execution_count": 7,
   "id": "8b2477b7",
   "metadata": {},
   "outputs": [
    {
     "data": {
      "text/plain": [
       "<matplotlib.image.AxesImage at 0x28acdedc250>"
      ]
     },
     "execution_count": 7,
     "metadata": {},
     "output_type": "execute_result"
    },
    {
     "data": {
      "image/png": "[encoded data removed]",
      "text/plain": [
       "<Figure size 432x288 with 1 Axes>"
      ]
     },
     "metadata": {
      "needs_background": "light"
     },
     "output_type": "display_data"
    }
   ],
   "source": [
    "plt.imshow(x_train[0])"
   ]
  },
  {
   "cell_type": "code",
   "execution_count": 8,
   "id": "2c84a67b",
   "metadata": {},
   "outputs": [
    {
     "data": {
      "text/plain": [
       "9"
      ]
     },
     "execution_count": 8,
     "metadata": {},
     "output_type": "execute_result"
    }
   ],
   "source": [
    "y_train[0]"
   ]
  },
  {
   "cell_type": "markdown",
   "id": "2e921807",
   "metadata": {},
   "source": [
    "# data normalization"
   ]
  },
  {
   "cell_type": "code",
   "execution_count": 9,
   "id": "0d4d2f9a",
   "metadata": {},
   "outputs": [],
   "source": [
    "x_train=x_train/255\n",
    "x_test=x_test/255"
   ]
  },
  {
   "cell_type": "markdown",
   "id": "e3e4c2f1",
   "metadata": {},
   "source": [
    "# splitting data into train,valid,test"
   ]
  },
  {
   "cell_type": "code",
   "execution_count": 35,
   "id": "21700913",
   "metadata": {},
   "outputs": [
    {
     "data": {
      "text/plain": [
       "((55000, 28, 28), (55000,))"
      ]
     },
     "execution_count": 35,
     "metadata": {},
     "output_type": "execute_result"
    }
   ],
   "source": [
    "x_train.shape,y_train.shape"
   ]
  },
  {
   "cell_type": "code",
   "execution_count": 11,
   "id": "546db839",
   "metadata": {},
   "outputs": [],
   "source": [
    "x_valid,x_train=x_train[:5000],x_train[5000:]\n",
    "y_valid,y_train=y_train[:5000],y_train[5000:]"
   ]
  },
  {
   "cell_type": "markdown",
   "id": "cbdceaac",
   "metadata": {},
   "source": [
    "# set random seed"
   ]
  },
  {
   "cell_type": "code",
   "execution_count": 12,
   "id": "f2abed5d",
   "metadata": {},
   "outputs": [],
   "source": [
    "np.random.seed(42)\n",
    "tf.random.set_seed(42)"
   ]
  },
  {
   "cell_type": "markdown",
   "id": "5dd937d9",
   "metadata": {},
   "source": [
    "# model building"
   ]
  },
  {
   "cell_type": "code",
   "execution_count": 13,
   "id": "5b89110d",
   "metadata": {},
   "outputs": [],
   "source": [
    "model=keras.models.Sequential()\n",
    "model.add(keras.layers.Flatten(input_shape=[28,28]))\n",
    "model.add(keras.layers.Dense(300,activation='relu'))\n",
    "model.add(keras.layers.Dense(300,activation='relu'))\n",
    "model.add(keras.layers.Dense(10,activation='softmax'))\n"
   ]
  },
  {
   "cell_type": "code",
   "execution_count": 14,
   "id": "3cdb4036",
   "metadata": {},
   "outputs": [
    {
     "name": "stdout",
     "output_type": "stream",
     "text": [
      "Model: \"sequential\"\n",
      "_________________________________________________________________\n",
      " Layer (type)                Output Shape              Param #   \n",
      "=================================================================\n",
      " flatten (Flatten)           (None, 784)               0         \n",
      "                                                                 \n",
      " dense (Dense)               (None, 300)               235500    \n",
      "                                                                 \n",
      " dense_1 (Dense)             (None, 300)               90300     \n",
      "                                                                 \n",
      " dense_2 (Dense)             (None, 10)                3010      \n",
      "                                                                 \n",
      "=================================================================\n",
      "Total params: 328,810\n",
      "Trainable params: 328,810\n",
      "Non-trainable params: 0\n",
      "_________________________________________________________________\n"
     ]
    }
   ],
   "source": [
    "model.summary()"
   ]
  },
  {
   "cell_type": "code",
   "execution_count": 15,
   "id": "5355fb92",
   "metadata": {},
   "outputs": [
    {
     "data": {
      "text/plain": [
       "55000"
      ]
     },
     "execution_count": 15,
     "metadata": {},
     "output_type": "execute_result"
    }
   ],
   "source": [
    "x_train.shape[0]"
   ]
  },
  {
   "cell_type": "code",
   "execution_count": 16,
   "id": "fd6a11c3",
   "metadata": {},
   "outputs": [
    {
     "data": {
      "image/png": "[encoded data removed]",
      "text/plain": [
       "<IPython.core.display.Image object>"
      ]
     },
     "execution_count": 16,
     "metadata": {},
     "output_type": "execute_result"
    }
   ],
   "source": [
    "import pydot\n",
    "keras.utils.plot_model(model)"
   ]
  },
  {
   "cell_type": "code",
   "execution_count": 17,
   "id": "1bb1c2bc",
   "metadata": {},
   "outputs": [],
   "source": [
    "weights,biases=model.layers[1].get_weights()"
   ]
  },
  {
   "cell_type": "code",
   "execution_count": 18,
   "id": "f06f46f2",
   "metadata": {},
   "outputs": [
    {
     "data": {
      "text/plain": [
       "(array([[ 0.02448617, -0.00877795, -0.02189048, ..., -0.02766046,\n",
       "          0.03859074, -0.06889391],\n",
       "        [ 0.00476504, -0.03105379, -0.0586676 , ...,  0.00602964,\n",
       "         -0.02763776, -0.04165364],\n",
       "        [-0.06189284, -0.06901957,  0.07102345, ..., -0.04238207,\n",
       "          0.07121518, -0.07331658],\n",
       "        ...,\n",
       "        [-0.03048757,  0.02155137, -0.05400612, ..., -0.00113463,\n",
       "          0.00228987,  0.05581069],\n",
       "        [ 0.07061854, -0.06960931,  0.07038955, ..., -0.00384101,\n",
       "          0.00034875,  0.02878492],\n",
       "        [-0.06022581,  0.01577859, -0.02585464, ..., -0.00527829,\n",
       "          0.00272203, -0.06793761]], dtype=float32),\n",
       " array([0., 0., 0., 0., 0., 0., 0., 0., 0., 0., 0., 0., 0., 0., 0., 0., 0.,\n",
       "        0., 0., 0., 0., 0., 0., 0., 0., 0., 0., 0., 0., 0., 0., 0., 0., 0.,\n",
       "        0., 0., 0., 0., 0., 0., 0., 0., 0., 0., 0., 0., 0., 0., 0., 0., 0.,\n",
       "        0., 0., 0., 0., 0., 0., 0., 0., 0., 0., 0., 0., 0., 0., 0., 0., 0.,\n",
       "        0., 0., 0., 0., 0., 0., 0., 0., 0., 0., 0., 0., 0., 0., 0., 0., 0.,\n",
       "        0., 0., 0., 0., 0., 0., 0., 0., 0., 0., 0., 0., 0., 0., 0., 0., 0.,\n",
       "        0., 0., 0., 0., 0., 0., 0., 0., 0., 0., 0., 0., 0., 0., 0., 0., 0.,\n",
       "        0., 0., 0., 0., 0., 0., 0., 0., 0., 0., 0., 0., 0., 0., 0., 0., 0.,\n",
       "        0., 0., 0., 0., 0., 0., 0., 0., 0., 0., 0., 0., 0., 0., 0., 0., 0.,\n",
       "        0., 0., 0., 0., 0., 0., 0., 0., 0., 0., 0., 0., 0., 0., 0., 0., 0.,\n",
       "        0., 0., 0., 0., 0., 0., 0., 0., 0., 0., 0., 0., 0., 0., 0., 0., 0.,\n",
       "        0., 0., 0., 0., 0., 0., 0., 0., 0., 0., 0., 0., 0., 0., 0., 0., 0.,\n",
       "        0., 0., 0., 0., 0., 0., 0., 0., 0., 0., 0., 0., 0., 0., 0., 0., 0.,\n",
       "        0., 0., 0., 0., 0., 0., 0., 0., 0., 0., 0., 0., 0., 0., 0., 0., 0.,\n",
       "        0., 0., 0., 0., 0., 0., 0., 0., 0., 0., 0., 0., 0., 0., 0., 0., 0.,\n",
       "        0., 0., 0., 0., 0., 0., 0., 0., 0., 0., 0., 0., 0., 0., 0., 0., 0.,\n",
       "        0., 0., 0., 0., 0., 0., 0., 0., 0., 0., 0., 0., 0., 0., 0., 0., 0.,\n",
       "        0., 0., 0., 0., 0., 0., 0., 0., 0., 0., 0.], dtype=float32))"
      ]
     },
     "execution_count": 18,
     "metadata": {},
     "output_type": "execute_result"
    }
   ],
   "source": [
    "weights,biases"
   ]
  },
  {
   "cell_type": "markdown",
   "id": "7a9856da",
   "metadata": {},
   "source": [
    "# compile and evaluating the model"
   ]
  },
  {
   "cell_type": "code",
   "execution_count": 19,
   "id": "8c15df66",
   "metadata": {},
   "outputs": [],
   "source": [
    "model.compile(loss='sparse_categorical_crossentropy',optimizer='sgd',metrics=['accuracy'])"
   ]
  },
  {
   "cell_type": "code",
   "execution_count": 20,
   "id": "c1aba530",
   "metadata": {},
   "outputs": [
    {
     "name": "stdout",
     "output_type": "stream",
     "text": [
      "Epoch 1/30\n",
      "1719/1719 [==============================] - 5s 2ms/step - loss: 0.7331 - accuracy: 0.7602 - val_loss: 0.5295 - val_accuracy: 0.8178\n",
      "Epoch 2/30\n",
      "1719/1719 [==============================] - 4s 2ms/step - loss: 0.4914 - accuracy: 0.8279 - val_loss: 0.4458 - val_accuracy: 0.8438\n",
      "Epoch 3/30\n",
      "1719/1719 [==============================] - 4s 2ms/step - loss: 0.4442 - accuracy: 0.8439 - val_loss: 0.5272 - val_accuracy: 0.8034\n",
      "Epoch 4/30\n",
      "1719/1719 [==============================] - 4s 2ms/step - loss: 0.4169 - accuracy: 0.8543 - val_loss: 0.3965 - val_accuracy: 0.8678\n",
      "Epoch 5/30\n",
      "1719/1719 [==============================] - 4s 2ms/step - loss: 0.3978 - accuracy: 0.8608 - val_loss: 0.3797 - val_accuracy: 0.8692\n",
      "Epoch 6/30\n",
      "1719/1719 [==============================] - 4s 2ms/step - loss: 0.3786 - accuracy: 0.8666 - val_loss: 0.3759 - val_accuracy: 0.8728\n",
      "Epoch 7/30\n",
      "1719/1719 [==============================] - 4s 2ms/step - loss: 0.3662 - accuracy: 0.8714 - val_loss: 0.3650 - val_accuracy: 0.8762\n",
      "Epoch 8/30\n",
      "1719/1719 [==============================] - 4s 2ms/step - loss: 0.3551 - accuracy: 0.8745 - val_loss: 0.3962 - val_accuracy: 0.8576\n",
      "Epoch 9/30\n",
      "1719/1719 [==============================] - 4s 2ms/step - loss: 0.3446 - accuracy: 0.8783 - val_loss: 0.3532 - val_accuracy: 0.8730\n",
      "Epoch 10/30\n",
      "1719/1719 [==============================] - 4s 2ms/step - loss: 0.3353 - accuracy: 0.8811 - val_loss: 0.3530 - val_accuracy: 0.8748\n",
      "Epoch 11/30\n",
      "1719/1719 [==============================] - 4s 2ms/step - loss: 0.3266 - accuracy: 0.8839 - val_loss: 0.3451 - val_accuracy: 0.8804\n",
      "Epoch 12/30\n",
      "1719/1719 [==============================] - 4s 2ms/step - loss: 0.3178 - accuracy: 0.8859 - val_loss: 0.3343 - val_accuracy: 0.8810\n",
      "Epoch 13/30\n",
      "1719/1719 [==============================] - 4s 2ms/step - loss: 0.3107 - accuracy: 0.8890 - val_loss: 0.3306 - val_accuracy: 0.8874\n",
      "Epoch 14/30\n",
      "1719/1719 [==============================] - 4s 2ms/step - loss: 0.3047 - accuracy: 0.8909 - val_loss: 0.3433 - val_accuracy: 0.8762\n",
      "Epoch 15/30\n",
      "1719/1719 [==============================] - 4s 2ms/step - loss: 0.2964 - accuracy: 0.8941 - val_loss: 0.3277 - val_accuracy: 0.8834\n",
      "Epoch 16/30\n",
      "1719/1719 [==============================] - 4s 2ms/step - loss: 0.2913 - accuracy: 0.8956 - val_loss: 0.3115 - val_accuracy: 0.8888\n",
      "Epoch 17/30\n",
      "1719/1719 [==============================] - 4s 2ms/step - loss: 0.2856 - accuracy: 0.8972 - val_loss: 0.3554 - val_accuracy: 0.8758\n",
      "Epoch 18/30\n",
      "1719/1719 [==============================] - 4s 2ms/step - loss: 0.2796 - accuracy: 0.8990 - val_loss: 0.3121 - val_accuracy: 0.8920\n",
      "Epoch 19/30\n",
      "1719/1719 [==============================] - 4s 2ms/step - loss: 0.2747 - accuracy: 0.9005 - val_loss: 0.3153 - val_accuracy: 0.8890\n",
      "Epoch 20/30\n",
      "1719/1719 [==============================] - 4s 2ms/step - loss: 0.2690 - accuracy: 0.9035 - val_loss: 0.3383 - val_accuracy: 0.8788\n",
      "Epoch 21/30\n",
      "1719/1719 [==============================] - 4s 2ms/step - loss: 0.2638 - accuracy: 0.9049 - val_loss: 0.3057 - val_accuracy: 0.8910\n",
      "Epoch 22/30\n",
      "1719/1719 [==============================] - 4s 2ms/step - loss: 0.2594 - accuracy: 0.9060 - val_loss: 0.2984 - val_accuracy: 0.8960\n",
      "Epoch 23/30\n",
      "1719/1719 [==============================] - 4s 2ms/step - loss: 0.2549 - accuracy: 0.9071 - val_loss: 0.3017 - val_accuracy: 0.8946\n",
      "Epoch 24/30\n",
      "1719/1719 [==============================] - 4s 2ms/step - loss: 0.2506 - accuracy: 0.9099 - val_loss: 0.3038 - val_accuracy: 0.8898\n",
      "Epoch 25/30\n",
      "1719/1719 [==============================] - 4s 2ms/step - loss: 0.2458 - accuracy: 0.9111 - val_loss: 0.3020 - val_accuracy: 0.8940\n",
      "Epoch 26/30\n",
      "1719/1719 [==============================] - 4s 2ms/step - loss: 0.2417 - accuracy: 0.9135 - val_loss: 0.3063 - val_accuracy: 0.8906\n",
      "Epoch 27/30\n",
      "1719/1719 [==============================] - 4s 2ms/step - loss: 0.2383 - accuracy: 0.9139 - val_loss: 0.2992 - val_accuracy: 0.8954\n",
      "Epoch 28/30\n",
      "1719/1719 [==============================] - 4s 2ms/step - loss: 0.2348 - accuracy: 0.9155 - val_loss: 0.3037 - val_accuracy: 0.8894\n",
      "Epoch 29/30\n",
      "1719/1719 [==============================] - 4s 2ms/step - loss: 0.2303 - accuracy: 0.9175 - val_loss: 0.3090 - val_accuracy: 0.8884\n",
      "Epoch 30/30\n",
      "1719/1719 [==============================] - 4s 2ms/step - loss: 0.2270 - accuracy: 0.9193 - val_loss: 0.3072 - val_accuracy: 0.8910\n"
     ]
    }
   ],
   "source": [
    "model_history=model.fit(x_train,y_train,epochs=30,validation_data=(x_valid,y_valid))"
   ]
  },
  {
   "cell_type": "code",
   "execution_count": 21,
   "id": "09a0e745",
   "metadata": {},
   "outputs": [
    {
     "data": {
      "text/plain": [
       "{'verbose': 1, 'epochs': 30, 'steps': 1719}"
      ]
     },
     "execution_count": 21,
     "metadata": {},
     "output_type": "execute_result"
    }
   ],
   "source": [
    "model_history.params"
   ]
  },
  {
   "cell_type": "code",
   "execution_count": 22,
   "id": "13cf3c3f",
   "metadata": {},
   "outputs": [
    {
     "data": {
      "text/plain": [
       "{'loss': [0.7330769300460815,\n",
       "  0.49144044518470764,\n",
       "  0.4442225396633148,\n",
       "  0.41687095165252686,\n",
       "  0.3978284001350403,\n",
       "  0.37857839465141296,\n",
       "  0.36618274450302124,\n",
       "  0.35512691736221313,\n",
       "  0.3446144461631775,\n",
       "  0.3352903127670288,\n",
       "  0.32661640644073486,\n",
       "  0.31780585646629333,\n",
       "  0.310674250125885,\n",
       "  0.3046652674674988,\n",
       "  0.29639068245887756,\n",
       "  0.2913111448287964,\n",
       "  0.2855623662471771,\n",
       "  0.27955061197280884,\n",
       "  0.2746829092502594,\n",
       "  0.26903295516967773,\n",
       "  0.2637989819049835,\n",
       "  0.25937995314598083,\n",
       "  0.2549417018890381,\n",
       "  0.2505570352077484,\n",
       "  0.245844304561615,\n",
       "  0.24173632264137268,\n",
       "  0.23828494548797607,\n",
       "  0.23476268351078033,\n",
       "  0.2302880734205246,\n",
       "  0.22703702747821808],\n",
       " 'accuracy': [0.7602182030677795,\n",
       "  0.827854573726654,\n",
       "  0.843927264213562,\n",
       "  0.8542909026145935,\n",
       "  0.860836386680603,\n",
       "  0.866599977016449,\n",
       "  0.8713818192481995,\n",
       "  0.8744545578956604,\n",
       "  0.8782545328140259,\n",
       "  0.8811454772949219,\n",
       "  0.8838727474212646,\n",
       "  0.8858545422554016,\n",
       "  0.888981819152832,\n",
       "  0.890927255153656,\n",
       "  0.8940908908843994,\n",
       "  0.895618200302124,\n",
       "  0.8972181677818298,\n",
       "  0.8990181684494019,\n",
       "  0.9004908800125122,\n",
       "  0.9034909009933472,\n",
       "  0.9049272537231445,\n",
       "  0.9059818387031555,\n",
       "  0.9071454405784607,\n",
       "  0.9099090695381165,\n",
       "  0.9111090898513794,\n",
       "  0.913454532623291,\n",
       "  0.9139272570610046,\n",
       "  0.9155272841453552,\n",
       "  0.9174545407295227,\n",
       "  0.9193272590637207],\n",
       " 'val_loss': [0.5294735431671143,\n",
       "  0.44576483964920044,\n",
       "  0.5272375345230103,\n",
       "  0.39654454588890076,\n",
       "  0.3797285854816437,\n",
       "  0.3759074807167053,\n",
       "  0.36504822969436646,\n",
       "  0.3961522579193115,\n",
       "  0.3531731963157654,\n",
       "  0.3529820144176483,\n",
       "  0.3450620770454407,\n",
       "  0.3343401849269867,\n",
       "  0.3305966854095459,\n",
       "  0.3433375358581543,\n",
       "  0.3277236819267273,\n",
       "  0.31146907806396484,\n",
       "  0.3554469048976898,\n",
       "  0.3120822608470917,\n",
       "  0.31530213356018066,\n",
       "  0.338256299495697,\n",
       "  0.30573421716690063,\n",
       "  0.2984350621700287,\n",
       "  0.301683634519577,\n",
       "  0.30381518602371216,\n",
       "  0.30198729038238525,\n",
       "  0.30628979206085205,\n",
       "  0.29924720525741577,\n",
       "  0.30366915464401245,\n",
       "  0.30899715423583984,\n",
       "  0.30723264813423157],\n",
       " 'val_accuracy': [0.817799985408783,\n",
       "  0.8438000082969666,\n",
       "  0.8033999800682068,\n",
       "  0.8677999973297119,\n",
       "  0.8691999912261963,\n",
       "  0.8727999925613403,\n",
       "  0.8762000203132629,\n",
       "  0.8575999736785889,\n",
       "  0.8730000257492065,\n",
       "  0.8748000264167786,\n",
       "  0.8804000020027161,\n",
       "  0.8809999823570251,\n",
       "  0.8873999714851379,\n",
       "  0.8762000203132629,\n",
       "  0.883400022983551,\n",
       "  0.8888000249862671,\n",
       "  0.8758000135421753,\n",
       "  0.8920000195503235,\n",
       "  0.8889999985694885,\n",
       "  0.8787999749183655,\n",
       "  0.890999972820282,\n",
       "  0.8960000276565552,\n",
       "  0.894599974155426,\n",
       "  0.8898000121116638,\n",
       "  0.8939999938011169,\n",
       "  0.8906000256538391,\n",
       "  0.8953999876976013,\n",
       "  0.8894000053405762,\n",
       "  0.8884000182151794,\n",
       "  0.890999972820282]}"
      ]
     },
     "execution_count": 22,
     "metadata": {},
     "output_type": "execute_result"
    }
   ],
   "source": [
    "model_history.history"
   ]
  },
  {
   "cell_type": "code",
   "execution_count": 23,
   "id": "03025150",
   "metadata": {},
   "outputs": [
    {
     "data": {
      "image/png": "[encoded data removed]",
      "text/plain": [
       "<Figure size 576x648 with 1 Axes>"
      ]
     },
     "metadata": {
      "needs_background": "light"
     },
     "output_type": "display_data"
    }
   ],
   "source": [
    "import pandas as pd\n",
    "pd.DataFrame(model_history.history).plot(figsize=(8,9))\n",
    "plt.grid=True\n",
    "plt.gca().set_ylim(0,1)\n",
    "plt.show()"
   ]
  },
  {
   "cell_type": "markdown",
   "id": "7a665c95",
   "metadata": {},
   "source": [
    "# evaluation"
   ]
  },
  {
   "cell_type": "code",
   "execution_count": 25,
   "id": "e3677ef9",
   "metadata": {},
   "outputs": [
    {
     "name": "stdout",
     "output_type": "stream",
     "text": [
      "313/313 [==============================] - 0s 1ms/step - loss: 0.3373 - accuracy: 0.8814\n"
     ]
    },
    {
     "data": {
      "text/plain": [
       "[0.3372744917869568, 0.8813999891281128]"
      ]
     },
     "execution_count": 25,
     "metadata": {},
     "output_type": "execute_result"
    }
   ],
   "source": [
    "model.evaluate(x_test,y_test)"
   ]
  },
  {
   "cell_type": "code",
   "execution_count": 28,
   "id": "c2fa29b9",
   "metadata": {},
   "outputs": [],
   "source": [
    "x_new=x_test[:3]"
   ]
  },
  {
   "cell_type": "code",
   "execution_count": 32,
   "id": "3af354db",
   "metadata": {},
   "outputs": [
    {
     "name": "stdout",
     "output_type": "stream",
     "text": [
      "1/1 [==============================] - 0s 26ms/step\n"
     ]
    },
    {
     "data": {
      "text/plain": [
       "array([[0.  , 0.  , 0.  , 0.  , 0.  , 0.03, 0.  , 0.02, 0.  , 0.94],\n",
       "       [0.  , 0.  , 1.  , 0.  , 0.  , 0.  , 0.  , 0.  , 0.  , 0.  ],\n",
       "       [0.  , 1.  , 0.  , 0.  , 0.  , 0.  , 0.  , 0.  , 0.  , 0.  ]],\n",
       "      dtype=float32)"
      ]
     },
     "execution_count": 32,
     "metadata": {},
     "output_type": "execute_result"
    }
   ],
   "source": [
    "yprob=model.predict(x_new)\n",
    "yprob.round(2)"
   ]
  },
  {
   "cell_type": "code",
   "execution_count": 1,
   "id": "d353b353",
   "metadata": {},
   "outputs": [
    {
     "ename": "SyntaxError",
     "evalue": "unexpected EOF while parsing (3906518423.py, line 1)",
     "output_type": "error",
     "traceback": [
      "\u001b[1;36m  Input \u001b[1;32mIn [1]\u001b[1;36m\u001b[0m\n\u001b[1;33m    pd.DataFrame(modelhistory.history).plot(figsize=(12,8)\u001b[0m\n\u001b[1;37m                                                          ^\u001b[0m\n\u001b[1;31mSyntaxError\u001b[0m\u001b[1;31m:\u001b[0m unexpected EOF while parsing\n"
     ]
    }
   ],
   "source": [
    "pd.DataFrame(model_history.history).plot(figsize=(12,8)"
   ]
  },
  {
   "cell_type": "code",
   "execution_count": null,
   "id": "662fb1ac",
   "metadata": {},
   "outputs": [],
   "source": []
  }
 ],
 "metadata": {
  "kernelspec": {
   "display_name": "Python 3 (ipykernel)",
   "language": "python",
   "name": "python3"
  },
  "language_info": {
   "codemirror_mode": {
    "name": "ipython",
    "version": 3
   },
   "file_extension": ".py",
   "mimetype": "text/x-python",
   "name": "python",
   "nbconvert_exporter": "python",
   "pygments_lexer": "ipython3",
   "version": "3.9.12"
  }
 },
 "nbformat": 4,
 "nbformat_minor": 5
}
